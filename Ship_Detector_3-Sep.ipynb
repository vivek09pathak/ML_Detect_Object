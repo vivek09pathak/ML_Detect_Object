{
  "nbformat": 4,
  "nbformat_minor": 0,
  "metadata": {
    "colab": {
      "name": "Ship_Detector.ipynb",
      "version": "0.3.2",
      "provenance": [],
      "include_colab_link": true
    },
    "kernelspec": {
      "display_name": "Python 3",
      "language": "python",
      "name": "python3"
    },
    "accelerator": "GPU"
  },
  "cells": [
    {
      "cell_type": "markdown",
      "metadata": {
        "id": "view-in-github",
        "colab_type": "text"
      },
      "source": [
        "[View in Colaboratory](https://colab.research.google.com/github/vivek09pathak/ML_Detect_Object/blob/master/Ship_Detector_3-Sep.ipynb)"
      ]
    },
    {
      "metadata": {
        "id": "rlqoov7BU7L5",
        "colab_type": "code",
        "colab": {}
      },
      "cell_type": "code",
      "source": [
        "!git clone https://github.com/vivek09pathak/ML_Detect_Object\n"
      ],
      "execution_count": 0,
      "outputs": []
    },
    {
      "metadata": {
        "id": "rrW6RxDIAfTu",
        "colab_type": "code",
        "colab": {}
      },
      "cell_type": "code",
      "source": [
        "cd ML_Detect_Object/"
      ],
      "execution_count": 0,
      "outputs": []
    },
    {
      "metadata": {
        "id": "cNUblJXIAjmU",
        "colab_type": "code",
        "colab": {}
      },
      "cell_type": "code",
      "source": [
        "!pip install --user Cython\n",
        "!pip install --user contextlib2\n",
        "!pip install --user pillow\n",
        "!pip install --user lxml\n",
        "!pip install --user jupyter\n",
        "!pip install --user matplotlib"
      ],
      "execution_count": 0,
      "outputs": []
    },
    {
      "metadata": {
        "id": "2DeLQk7jA_oc",
        "colab_type": "code",
        "colab": {}
      },
      "cell_type": "code",
      "source": [
        "!wget -O protobuf.zip https://github.com/google/protobuf/releases/download/v3.0.0/protoc-3.0.0-linux-x86_64.zip\n",
        "!unzip protobuf.zip"
      ],
      "execution_count": 0,
      "outputs": []
    },
    {
      "metadata": {
        "id": "Rg04IoSEBDws",
        "colab_type": "code",
        "colab": {}
      },
      "cell_type": "code",
      "source": [
        "!./bin/protoc object_detection/protos/*.proto --python_out=."
      ],
      "execution_count": 0,
      "outputs": []
    },
    {
      "metadata": {
        "id": "oyYGBnBw-OdW",
        "colab_type": "code",
        "colab": {}
      },
      "cell_type": "code",
      "source": [
        "import tensorflow as tf\n",
        "import numpy as np\n",
        "import os\n",
        "import sys\n",
        "import time\n",
        "import cv2\n",
        "import math  \n",
        "from collections import defaultdict\n",
        "from io import StringIO\n",
        "from matplotlib import pyplot as plt\n",
        "from PIL import Image"
      ],
      "execution_count": 0,
      "outputs": []
    },
    {
      "metadata": {
        "id": "H49PWRX8U7MB",
        "colab_type": "code",
        "colab": {}
      },
      "cell_type": "code",
      "source": [
        "# Here are the imports from the object detection module.\n",
        "from object_detection.utils import label_map_util\n",
        "from object_detection.utils import visualization_utils as vis_util"
      ],
      "execution_count": 0,
      "outputs": []
    },
    {
      "metadata": {
        "id": "f_f75pRHBOde",
        "colab_type": "code",
        "colab": {}
      },
      "cell_type": "code",
      "source": [
        "ls"
      ],
      "execution_count": 0,
      "outputs": []
    },
    {
      "metadata": {
        "id": "eMGF1vnyU7MJ",
        "colab_type": "code",
        "colab": {}
      },
      "cell_type": "code",
      "source": [
        "# Model preparation\n",
        "MODEL_NAME = './object_detection/models/ssd_mobilenet_v1_ship_15000'\n",
        "print(MODEL_NAME)\n",
        "\n",
        "# Path to frozen detection graph. This is the actual model that is used for the object detection.\n",
        "PATH_TO_CKPT = MODEL_NAME + '/frozen_inference_graph.pb'\n",
        "print(PATH_TO_CKPT)\n",
        "# List of the strings that is used to add correct label for each box.\n",
        "PATH_TO_LABELS = os.path.join('./object_detection/data', 'ship_label_map.pbtxt')\n",
        "print(PATH_TO_LABELS)\n",
        "NUM_CLASSES = 1\n"
      ],
      "execution_count": 0,
      "outputs": []
    },
    {
      "metadata": {
        "id": "lpqSXBbnU7ML",
        "colab_type": "code",
        "colab": {}
      },
      "cell_type": "code",
      "source": [
        "# Load a (frozen) Tensorflow model into memory.\n",
        "detection_graph = tf.Graph()\n",
        "with detection_graph.as_default():\n",
        "  od_graph_def = tf.GraphDef()\n",
        "  with tf.gfile.GFile(r'./object_detection/models/ssd_mobilenet_v1_ship_15000/frozen_inference_graph.pb', 'rb') as fid:\n",
        "    serialized_graph = fid.read()\n",
        "    od_graph_def.ParseFromString(serialized_graph)\n",
        "    tf.import_graph_def(od_graph_def, name='')\n"
      ],
      "execution_count": 0,
      "outputs": []
    },
    {
      "metadata": {
        "id": "9Yvb7hmFU7MQ",
        "colab_type": "code",
        "colab": {}
      },
      "cell_type": "code",
      "source": [
        "label_map = label_map_util.load_labelmap(PATH_TO_LABELS)\n",
        "categories = label_map_util.convert_label_map_to_categories(label_map, max_num_classes=NUM_CLASSES, use_display_name=True)\n",
        "category_index = label_map_util.create_category_index(categories)"
      ],
      "execution_count": 0,
      "outputs": []
    },
    {
      "metadata": {
        "id": "1y5oZW9uU7MU",
        "colab_type": "code",
        "colab": {}
      },
      "cell_type": "code",
      "source": [
        "def load_image_into_numpy_array(image):\n",
        "  (im_width, im_height) = [500,500]\n",
        "  return np.array(image.getdata()).reshape(\n",
        "      (im_height, im_width, 3)).astype(np.uint8)\n"
      ],
      "execution_count": 0,
      "outputs": []
    },
    {
      "metadata": {
        "id": "axJN-J2a51eZ",
        "colab_type": "code",
        "colab": {}
      },
      "cell_type": "code",
      "source": [
        "\n",
        "def calculateDistance(x1,y1,x2,y2):  \n",
        "    dist = math.sqrt((x2 - x1)**2 + (y2 - y1)**2) \n",
        "    delta =0.0033 * (dist**2) -1.9918 * dist +372.28\n",
        "    \n",
        "    return delta  \n"
      ],
      "execution_count": 0,
      "outputs": []
    },
    {
      "metadata": {
        "id": "uhBcB6FOU7Mb",
        "colab_type": "code",
        "colab": {}
      },
      "cell_type": "code",
      "source": [
        "def pipeline(image):\n",
        "  \n",
        "    with detection_graph.as_default():\n",
        "          with tf.Session(graph=detection_graph) as sess:\n",
        "                \n",
        "                image_np = np.asarray(image)\n",
        "                image_np_expanded = np.expand_dims(image_np, axis=0)\n",
        "                image_tensor = detection_graph.get_tensor_by_name('image_tensor:0')\n",
        "                # Each box represents a part of the image where a particular object was detected.\n",
        "                boxes = detection_graph.get_tensor_by_name('detection_boxes:0')\n",
        "                # Each score represent how level of confidence for each of the objects.\n",
        "                # Score is shown on the result image, together with the class label.\n",
        "                scores = detection_graph.get_tensor_by_name('detection_scores:0')\n",
        "\n",
        "                classes = detection_graph.get_tensor_by_name('detection_classes:0')\n",
        "                num_detections = detection_graph.get_tensor_by_name('num_detections:0')\n",
        "                # Actual detection.\n",
        "                (boxes, scores, classes, num_detections) = sess.run(\n",
        "                  [boxes, scores, classes, num_detections],\n",
        "                  feed_dict={image_tensor: image_np_expanded})\n",
        "                # Visualization of the results of a detection.\n",
        "                vis_util.visualize_boxes_and_labels_on_image_array(\n",
        "                  image_np,\n",
        "                  np.squeeze(boxes),\n",
        "                  np.squeeze(classes).astype(np.int32),\n",
        "                  np.squeeze(scores),\n",
        "                  category_index,\n",
        "                  use_normalized_coordinates=True,\n",
        "                  min_score_thresh=.9,\n",
        "                  line_thickness=2)\n",
        "                \n",
        "                ################### Data analysis ###################\n",
        "                print(\"\")\n",
        "                final_score = np.squeeze(scores)  # scores\n",
        "                r_count = 0  # counting\n",
        "                r_score = []  # temp score, <class 'numpy.ndarray'>\n",
        "                final_category = np.array([category_index.get(i) for i in classes[0]]) # category\n",
        "                r_category = np.array([])  # temp category\n",
        "\n",
        "                for i in range(100):\n",
        "                    if scores is None or final_score[i] > 0.7:\n",
        "                        r_count = r_count + 1\n",
        "                        r_score = np.append(r_score, final_score[i])\n",
        "                        r_category = np.append(r_category, final_category[i])\n",
        "\n",
        "                if r_count > 0:\n",
        "                    print(\"Number of bounding boxes: \", r_count)\n",
        "                    print(\"\")\n",
        "                else:\n",
        "                    print(\"Not Detect\")\n",
        "                    print(\"\")\n",
        "                for i in range(len(r_score)):  # socre array`s length\n",
        "                    print(\"Object Num: {} , Category: {} , Score: {}%\".format(i+1, r_category[i]['name'], 100*r_score[i]))\n",
        "                    print(\"\")\n",
        "                    final_boxes = np.squeeze(boxes)[i]  # ymin, xmin, ymax, xmax\n",
        "                    xmin = final_boxes[1]\n",
        "                    ymin = final_boxes[0]\n",
        "                    xmax = final_boxes[3]\n",
        "                    ymax = final_boxes[2]\n",
        "                    location_x = (xmax+xmin)/2\n",
        "                    location_y = (ymax+ymin)/2\n",
        "                    min_location=location_y*100\n",
        "                    \n",
        "                    # print(\"final_boxes [ymin xmin ymax xmax]\")\n",
        "                    # print(\"final_boxes\", final_boxes)\n",
        "                    if(min_location>35):\n",
        "                      cv2.putText(image_np,'FAR', (100, 90),  cv2.FONT_HERSHEY_SIMPLEX,1.5, (0,255,0), thickness=2)\n",
        "                    else:\n",
        "                      cv2.putText(image_np,'NEAR' , (100, 90),  cv2.FONT_HERSHEY_SIMPLEX,1.5, (255,0,0), thickness=2)\n",
        "                    print(\"Location x: {}, y: {}\".format(location_x, location_y))\n",
        "                    print(\"\")\n",
        "                print(\"+ \" * 30 ) \n",
        "               \n",
        "    return image_np\n",
        "\n",
        "                \n",
        "\n"
      ],
      "execution_count": 0,
      "outputs": []
    },
    {
      "metadata": {
        "id": "2kjeATfBCGYM",
        "colab_type": "code",
        "colab": {}
      },
      "cell_type": "code",
      "source": [
        "!pip install moviepy"
      ],
      "execution_count": 0,
      "outputs": []
    },
    {
      "metadata": {
        "id": "B0BWrbSCU7Mg",
        "colab_type": "code",
        "colab": {}
      },
      "cell_type": "code",
      "source": [
        "\n",
        "from moviepy.editor import VideoFileClip\n",
        "vid_output = 'result9_1.mp4'\n",
        "clip = VideoFileClip(\"result9.mp4\")\n",
        "vid = clip.fl_image(pipeline)\n",
        "vid.write_videofile(vid_output, audio=False)"
      ],
      "execution_count": 0,
      "outputs": []
    },
    {
      "metadata": {
        "id": "lNbqo1_OU7Mp",
        "colab_type": "code",
        "colab": {}
      },
      "cell_type": "code",
      "source": [
        "\n",
        "import io# import # import \n",
        "import base64\n",
        "from IPython.display import HTML\n",
        "\n",
        "video = io.open('result9_1.mp4', 'r+b').read()\n",
        "encoded = base64.b64encode(video)\n",
        "HTML(data='''<video alt=\"test\" controls>\n",
        "                <source src=\"data:video/mp4;base64,{0}\" type=\"video/mp4\" />\n",
        "             </video>'''.format(encoded.decode('ascii')))"
      ],
      "execution_count": 0,
      "outputs": []
    }
  ]
}